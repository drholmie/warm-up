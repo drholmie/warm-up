{
 "cells": [
  {
   "cell_type": "code",
   "execution_count": 1,
   "metadata": {},
   "outputs": [],
   "source": [
    "import cirq\n",
    "import numpy as np"
   ]
  },
  {
   "cell_type": "code",
   "execution_count": 2,
   "metadata": {},
   "outputs": [
    {
     "name": "stdout",
     "output_type": "stream",
     "text": [
      "[cirq.GridQubit(0, 0), cirq.GridQubit(0, 1), cirq.GridQubit(0, 2), cirq.GridQubit(0, 3), cirq.GridQubit(0, 4)]\n"
     ]
    }
   ],
   "source": [
    "### a) intialise with 5 qubits\n",
    "qubits = [cirq.GridQubit(0, i) for i in range(5)]\n",
    "print(qubits)"
   ]
  },
  {
   "cell_type": "code",
   "execution_count": 3,
   "metadata": {},
   "outputs": [
    {
     "name": "stdout",
     "output_type": "stream",
     "text": [
      "(0, 0): ───H───\n",
      "\n",
      "(0, 1): ───H───\n",
      "\n",
      "(0, 2): ───H───\n",
      "\n",
      "(0, 3): ───H───\n",
      "\n",
      "(0, 4): ───H───\n"
     ]
    }
   ],
   "source": [
    "### b) apply hadamard on every gate\n",
    "qc = cirq.Circuit()\n",
    "qc.append(cirq.H(q) for q in qubits)\n",
    "print(qc)"
   ]
  },
  {
   "cell_type": "code",
   "execution_count": 4,
   "metadata": {},
   "outputs": [
    {
     "name": "stdout",
     "output_type": "stream",
     "text": [
      "(0, 0): ───H───@───────────────\n",
      "               │\n",
      "(0, 1): ───H───X───@───────────\n",
      "                   │\n",
      "(0, 2): ───H───────X───@───────\n",
      "                       │\n",
      "(0, 3): ───H───────────X───@───\n",
      "                           │\n",
      "(0, 4): ───H───────────────X───\n"
     ]
    }
   ],
   "source": [
    "### c) apply CNOT/CX on qubits (format assumed: (control, target)) (q0, q1), (q1, q2), (q2, q3), (q3, q4)\n",
    "qc.append(cirq.CNOT(qubits[i],qubits[j]) for i in range(0,len(qubits)) for j in range(0,len(qubits)) if j==i+1)\n",
    "print(qc)"
   ]
  },
  {
   "cell_type": "code",
   "execution_count": 5,
   "metadata": {},
   "outputs": [
    {
     "name": "stdout",
     "output_type": "stream",
     "text": [
      "(0, 0): ───H───@───────────────×───\n",
      "               │               │\n",
      "(0, 1): ───H───X───@───────────┼───\n",
      "                   │           │\n",
      "(0, 2): ───H───────X───@───────┼───\n",
      "                       │       │\n",
      "(0, 3): ───H───────────X───@───┼───\n",
      "                           │   │\n",
      "(0, 4): ───H───────────────X───×───\n"
     ]
    }
   ],
   "source": [
    "### d) apply SWAP on (q0,q4)\n",
    "qc.append(cirq.SWAP(qubits[0],qubits[4]))\n",
    "print(qc)"
   ]
  },
  {
   "cell_type": "code",
   "execution_count": 6,
   "metadata": {},
   "outputs": [
    {
     "name": "stdout",
     "output_type": "stream",
     "text": [
      "(0, 0): ───H───@───────────────×───Rx(0.5π)───\n",
      "               │               │\n",
      "(0, 1): ───H───X───@───────────┼──────────────\n",
      "                   │           │\n",
      "(0, 2): ───H───────X───@───────┼──────────────\n",
      "                       │       │\n",
      "(0, 3): ───H───────────X───@───┼──────────────\n",
      "                           │   │\n",
      "(0, 4): ───H───────────────X───×──────────────\n"
     ]
    }
   ],
   "source": [
    "### e) rotate X with pi/2\n",
    "gate = cirq.rx(np.pi/2)\n",
    "qc.append(gate.on(qubits[0]))\n",
    "#qc.append(cirq.X(qubits[0])**(np.pi/2))\n",
    "print(qc)"
   ]
  },
  {
   "cell_type": "code",
   "execution_count": 7,
   "metadata": {},
   "outputs": [
    {
     "name": "stdout",
     "output_type": "stream",
     "text": [
      "(0, 1): ───M('1')───\n",
      "Probabilty measured: \n"
     ]
    },
    {
     "data": {
      "image/png": "[encoded data removed]",
      "text/plain": [
       "<Figure size 432x288 with 1 Axes>"
      ]
     },
     "metadata": {
      "needs_background": "light"
     },
     "output_type": "display_data"
    },
    {
     "name": "stdout",
     "output_type": "stream",
     "text": [
      "(0, 1): ───Rx(0.006π)───M('2')───\n",
      "Probabilty measured: \n"
     ]
    },
    {
     "data": {
      "image/png": "[encoded data removed]",
      "text/plain": [
       "<Figure size 432x288 with 1 Axes>"
      ]
     },
     "metadata": {
      "needs_background": "light"
     },
     "output_type": "display_data"
    },
    {
     "name": "stdout",
     "output_type": "stream",
     "text": [
      "(0, 1): ───Rx(0.006π)───Rx(0.011π)───M('3')───\n",
      "Probabilty measured: \n"
     ]
    },
    {
     "data": {
      "image/png": "[encoded data removed]",
      "text/plain": [
       "<Figure size 432x288 with 1 Axes>"
      ]
     },
     "metadata": {
      "needs_background": "light"
     },
     "output_type": "display_data"
    },
    {
     "name": "stdout",
     "output_type": "stream",
     "text": [
      "(0, 1): ───Rx(0.006π)───Rx(0.011π)───Rx(0.017π)───M('4')───\n",
      "Probabilty measured: \n"
     ]
    },
    {
     "data": {
      "image/png": "[encoded data removed]",
      "text/plain": [
       "<Figure size 432x288 with 1 Axes>"
      ]
     },
     "metadata": {
      "needs_background": "light"
     },
     "output_type": "display_data"
    },
    {
     "name": "stdout",
     "output_type": "stream",
     "text": [
      "(0, 1): ───Rx(0.006π)───Rx(0.011π)───Rx(0.017π)───Rx(0.022π)───M('5')───\n",
      "Probabilty measured: \n"
     ]
    },
    {
     "data": {
      "image/png": "[encoded data removed]",
      "text/plain": [
       "<Figure size 432x288 with 1 Axes>"
      ]
     },
     "metadata": {
      "needs_background": "light"
     },
     "output_type": "display_data"
    }
   ],
   "source": [
    "### 2) circuit that is a series of small cirq.Rx rotations \n",
    "###    and plot the probability of measuring the state in the |0⟩ state\n",
    "simulator = cirq.Simulator()\n",
    "for i in range(1,6):\n",
    "    quantumCircuit = cirq.Circuit()\n",
    "    qubit = cirq.GridQubit(0,1)\n",
    "    quantumCircuit.append([cirq.rx((np.pi/180)*j).on(qubit) for j in range(1,i)])\n",
    "    quantumCircuit.append(cirq.measure(qubit, key=i))\n",
    "    print(quantumCircuit)\n",
    "    print(\"Probabilty measured: \")\n",
    "    results = simulator.run(quantumCircuit, repetitions=100)\n",
    "    cirq.plot_state_histogram(results)"
   ]
  },
  {
   "cell_type": "code",
   "execution_count": null,
   "metadata": {},
   "outputs": [],
   "source": []
  }
 ],
 "metadata": {
  "kernelspec": {
   "display_name": "Python 3",
   "language": "python",
   "name": "python3"
  },
  "language_info": {
   "codemirror_mode": {
    "name": "ipython",
    "version": 3
   },
   "file_extension": ".py",
   "mimetype": "text/x-python",
   "name": "python",
   "nbconvert_exporter": "python",
   "pygments_lexer": "ipython3",
   "version": "3.7.0"
  }
 },
 "nbformat": 4,
 "nbformat_minor": 2
}
